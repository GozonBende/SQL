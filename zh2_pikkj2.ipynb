{
    "metadata": {
        "kernelspec": {
            "name": "SQL",
            "display_name": "SQL",
            "language": "sql"
        },
        "language_info": {
            "name": "sql",
            "version": ""
        }
    },
    "nbformat_minor": 2,
    "nbformat": 4,
    "cells": [
        {
            "cell_type": "code",
            "source": [
                "SELECT v.nev as 'Ügyfél neve' , \r\n",
                "    AVG(f.FELNOTT_SZAM + f.GYERMEK_SZAM) OVER(PARTITION BY\r\n",
                "f.ugyfel_fk ORDER BY f.foglalas_pk ROWS BETWEEN\r\n",
                "3 PRECEDING AND 1 PRECEDING)\r\n",
                "AS 'ELőző 3 foglalás átlaga' \r\n",
                "FROM vendeg v left join foglalas f on f.Ugyfel_fk  = v.usernev"
            ],
            "metadata": {
                "azdata_cell_guid": "e8e9790a-23de-485d-bcaf-a44eba616b4a",
                "language": "sql"
            },
            "outputs": [],
            "execution_count": null
        },
        {
            "cell_type": "code",
            "source": [
                "select sz.szoba_id , f.foglalas_pk, \r\n",
                "IIF(GROUPING(f.meddig)=1, '0', cast(DAY(sz.mettol)-DAY(sz.meddig)))\r\n",
                "AS '',\r\n",
                "\r\n",
                "AS nvarchar(4))\r\n",
                "WHEN 1 THEN 'Összesen' END\r\n",
                "\r\n",
                "from foglalas f join szoba sz on f.SZOBA_FK = sz.SZOBA_ID\r\n",
                "where "
            ],
            "metadata": {
                "azdata_cell_guid": "05bc9d7a-d763-4cd7-9ba2-e241afc47435",
                "language": "sql"
            },
            "outputs": [],
            "execution_count": null
        }
    ]
}