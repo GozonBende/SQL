{
    "metadata": {
        "kernelspec": {
            "name": "SQL",
            "display_name": "SQL",
            "language": "sql"
        },
        "language_info": {
            "name": "sql",
            "version": ""
        }
    },
    "nbformat_minor": 2,
    "nbformat": 4,
    "cells": [
        {
            "cell_type": "code",
            "source": [
                "--Hianyzó adatok\r\n",
                "SELECT \r\n",
                "    SUM(CASE WHEN LISTAAR IS NULL THEN 1 ELSE 0 END) AS hianyzo_listaar,\r\n",
                "    SUM(CASE WHEN LEIRAS IS NULL THEN 1 ELSE 0 END) AS hianyzo_leiras,\r\n",
                "    SUM(CASE WHEN MEGNEVEZES IS NULL THEN 1 ELSE 0 END) AS hianyzo_megnevezes\r\n",
                "FROM Termek;\r\n",
                "\r\n",
                ""
            ],
            "metadata": {
                "azdata_cell_guid": "9be70bee-2ab2-4e8c-9dbf-4ccb61bfbe08",
                "language": "sql"
            },
            "outputs": [
                {
                    "output_type": "display_data",
                    "data": {
                        "text/html": "(1 row affected)"
                    },
                    "metadata": {}
                },
                {
                    "output_type": "display_data",
                    "data": {
                        "text/html": "Total execution time: 00:00:00.035"
                    },
                    "metadata": {}
                },
                {
                    "output_type": "execute_result",
                    "execution_count": 38,
                    "data": {
                        "application/vnd.dataresource+json": {
                            "schema": {
                                "fields": [
                                    {
                                        "name": "hianyzo_listaar"
                                    },
                                    {
                                        "name": "hianyzo_leiras"
                                    },
                                    {
                                        "name": "hianyzo_megnevezes"
                                    }
                                ]
                            },
                            "data": [
                                {
                                    "hianyzo_listaar": "0",
                                    "hianyzo_leiras": "527",
                                    "hianyzo_megnevezes": "0"
                                }
                            ]
                        },
                        "text/html": "<table><tr><th>hianyzo_listaar</th><th>hianyzo_leiras</th><th>hianyzo_megnevezes</th></tr><tr><td>0</td><td>527</td><td>0</td></tr></table>"
                    },
                    "metadata": {}
                }
            ],
            "execution_count": 38
        },
        {
            "cell_type": "code",
            "source": [
                "--Átlagok\r\n",
                "SELECT \r\n",
                "    MIN(LISTAAR) AS min_ar,\r\n",
                "    MAX(LISTAAR) AS max_ar,\r\n",
                "    AVG(LISTAAR) AS atlag_ar\r\n",
                "FROM Termek;\r\n",
                "\r\n",
                ""
            ],
            "metadata": {
                "azdata_cell_guid": "d0892c04-8af6-45fc-b291-21d48cf0b90d",
                "language": "sql"
            },
            "outputs": [
                {
                    "output_type": "display_data",
                    "data": {
                        "text/html": "(1 row affected)"
                    },
                    "metadata": {}
                },
                {
                    "output_type": "display_data",
                    "data": {
                        "text/html": "Total execution time: 00:00:00.021"
                    },
                    "metadata": {}
                },
                {
                    "output_type": "execute_result",
                    "execution_count": 40,
                    "data": {
                        "application/vnd.dataresource+json": {
                            "schema": {
                                "fields": [
                                    {
                                        "name": "min_ar"
                                    },
                                    {
                                        "name": "max_ar"
                                    },
                                    {
                                        "name": "atlag_ar"
                                    }
                                ]
                            },
                            "data": [
                                {
                                    "min_ar": "0",
                                    "max_ar": "46000",
                                    "atlag_ar": "786,2813067150635"
                                }
                            ]
                        },
                        "text/html": "<table><tr><th>min_ar</th><th>max_ar</th><th>atlag_ar</th></tr><tr><td>0</td><td>46000</td><td>786,2813067150635</td></tr></table>"
                    },
                    "metadata": {}
                }
            ],
            "execution_count": 40
        },
        {
            "cell_type": "code",
            "source": [
                "--Első és utolsó felvitel\r\n",
                "SELECT \r\n",
                "    MIN(FELVITEL) AS elso_felvitel,\r\n",
                "    MAX(FELVITEL) AS utolso_felvitel\r\n",
                "FROM Termek;"
            ],
            "metadata": {
                "azdata_cell_guid": "8179d8dc-8798-42d1-b01d-499214a3253b",
                "language": "sql"
            },
            "outputs": [
                {
                    "output_type": "display_data",
                    "data": {
                        "text/html": "(1 row affected)"
                    },
                    "metadata": {}
                },
                {
                    "output_type": "display_data",
                    "data": {
                        "text/html": "Total execution time: 00:00:00.113"
                    },
                    "metadata": {}
                },
                {
                    "output_type": "execute_result",
                    "execution_count": 41,
                    "data": {
                        "application/vnd.dataresource+json": {
                            "schema": {
                                "fields": [
                                    {
                                        "name": "elso_felvitel"
                                    },
                                    {
                                        "name": "utolso_felvitel"
                                    }
                                ]
                            },
                            "data": [
                                {
                                    "elso_felvitel": "2016-07-01",
                                    "utolso_felvitel": "2016-12-11"
                                }
                            ]
                        },
                        "text/html": "<table><tr><th>elso_felvitel</th><th>utolso_felvitel</th></tr><tr><td>2016-07-01</td><td>2016-12-11</td></tr></table>"
                    },
                    "metadata": {}
                }
            ],
            "execution_count": 41
        },
        {
            "cell_type": "code",
            "source": [
                "--Ki hány terméket vitt fel\r\n",
                "SELECT FELVITTE, COUNT(*) AS db\r\n",
                "FROM Termek\r\n",
                "GROUP BY FELVITTE\r\n",
                "ORDER BY db DESC;"
            ],
            "metadata": {
                "azdata_cell_guid": "9890b59b-6719-4d3c-bc2f-6511b1f81888",
                "language": "sql"
            },
            "outputs": [
                {
                    "output_type": "display_data",
                    "data": {
                        "text/html": "(3 rows affected)"
                    },
                    "metadata": {}
                },
                {
                    "output_type": "display_data",
                    "data": {
                        "text/html": "Total execution time: 00:00:00.026"
                    },
                    "metadata": {}
                },
                {
                    "output_type": "execute_result",
                    "execution_count": 42,
                    "data": {
                        "application/vnd.dataresource+json": {
                            "schema": {
                                "fields": [
                                    {
                                        "name": "FELVITTE"
                                    },
                                    {
                                        "name": "db"
                                    }
                                ]
                            },
                            "data": [
                                {
                                    "FELVITTE": "Béla",
                                    "db": "189"
                                },
                                {
                                    "FELVITTE": "Sára",
                                    "db": "188"
                                },
                                {
                                    "FELVITTE": "Mari",
                                    "db": "174"
                                }
                            ]
                        },
                        "text/html": "<table><tr><th>FELVITTE</th><th>db</th></tr><tr><td>Béla</td><td>189</td></tr><tr><td>Sára</td><td>188</td></tr><tr><td>Mari</td><td>174</td></tr></table>"
                    },
                    "metadata": {}
                }
            ],
            "execution_count": 42
        }
    ]
}