{
    "metadata": {
        "kernelspec": {
            "name": "SQL",
            "display_name": "SQL",
            "language": "sql"
        },
        "language_info": {
            "name": "sql",
            "version": ""
        }
    },
    "nbformat_minor": 2,
    "nbformat": 4,
    "cells": [
        {
            "cell_type": "code",
            "source": [
                "CREATE TABLE Hazi_Webshop (\r\n",
                "\r\n",
                "    email VARCHAR(100) MASKED WITH (FUNCTION = 'email()'),\r\n",
                "    nev VARCHAR(100) MASKED WITH (FUNCTION = 'partial(3,\"XXX\",3)'),\r\n",
                "    szulev date MASKED WITH (FUNCTION = 'default()'),\r\n",
                "    nem INT MASKED WITH (FUNCTION = 'random(1,2)'),\r\n",
                "    [login] varchar(100),\r\n",
                "    cim varchar(100)\r\n",
                ");\r\n",
                "INSERT INTO Hazi_Webshop\r\n",
                "(email, nev, szulev, nem, [login], cim)\r\n",
                "select email, nev, szulev, nem, [login], cim\r\n",
                "from ugyfel\r\n",
                "\r\n",
                "\r\n",
                "CREATE USER MaskUser WITHOUT Login;\r\n",
                "GRANT SELECT ON Hazi_Webshop TO MaskUser\r\n",
                "\r\n",
                "\r\n",
                "EXECUTE AS User= 'MaskUser';\r\n",
                "SELECT * FROM Hazi_Webshop\r\n",
                "REVERT\r\n",
                ""
            ],
            "metadata": {
                "azdata_cell_guid": "e1914d37-143c-44f4-9e76-21828c21fb9c",
                "language": "sql",
                "tags": []
            },
            "outputs": [
                {
                    "output_type": "error",
                    "ename": "",
                    "evalue": "Msg 262, Level 14, State 1, Line 1\r\nCREATE TABLE permission denied in database 'webshop'.",
                    "traceback": []
                },
                {
                    "output_type": "display_data",
                    "data": {
                        "text/html": "Total execution time: 00:00:00.013"
                    },
                    "metadata": {}
                }
            ],
            "execution_count": 11
        }
    ]
}