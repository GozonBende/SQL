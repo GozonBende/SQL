{
    "metadata": {
        "kernelspec": {
            "name": "SQL",
            "display_name": "SQL",
            "language": "sql"
        },
        "language_info": {
            "name": "sql",
            "version": ""
        }
    },
    "nbformat_minor": 2,
    "nbformat": 4,
    "cells": [
        {
            "cell_type": "code",
            "source": [
                "SELECT v.szul_dat , sum(FELNOTT_SZAM) as 'vendégek'\r\n",
                "From foglalas f join Vendeg v on f.UGYFEL_FK = v.USERNEV\r\n",
                "group by v.SZUL_DAT\r\n",
                "having sum(FELNOTT_SZAM) >= 5\r\n",
                "order by SZUL_DAT \r\n",
                "\r\n",
                ""
            ],
            "metadata": {
                "azdata_cell_guid": "bc4b1864-3d34-4836-bb70-6985e761e690",
                "language": "sql",
                "tags": []
            },
            "outputs": [
                {
                    "output_type": "display_data",
                    "data": {
                        "text/html": "(158 rows affected)"
                    },
                    "metadata": {}
                },
                {
                    "output_type": "display_data",
                    "data": {
                        "text/html": "Total execution time: 00:00:00.015"
                    },
                    "metadata": {}
                },
                {
                    "output_type": "execute_result",
                    "metadata": {},
                    "execution_count": 1,
                    "data": {
                        "application/vnd.dataresource+json": {
                            "schema": {
                                "fields": [
                                    {
                                        "name": "szul_dat"
                                    },
                                    {
                                        "name": "vendégek"
                                    }
                                ]
                            },
                            "data": [
                                {
                                    "szul_dat": "1967-01-03",
                                    "vendégek": "16"
                                },
                                {
                                    "szul_dat": "1967-02-25",
                                    "vendégek": "10"
                                },
                                {
                                    "szul_dat": "1967-04-11",
                                    "vendégek": "6"
                                },
                                {
                                    "szul_dat": "1967-06-30",
                                    "vendégek": "5"
                                },
                                {
                                    "szul_dat": "1967-07-02",
                                    "vendégek": "13"
                                },
                                {
                                    "szul_dat": "1967-09-28",
                                    "vendégek": "10"
                                },
                                {
                                    "szul_dat": "1967-11-02",
                                    "vendégek": "9"
                                },
                                {
                                    "szul_dat": "1968-01-01",
                                    "vendégek": "9"
                                },
                                {
                                    "szul_dat": "1968-02-06",
                                    "vendégek": "13"
                                },
                                {
                                    "szul_dat": "1968-03-21",
                                    "vendégek": "9"
                                },
                                {
                                    "szul_dat": "1968-05-07",
                                    "vendégek": "8"
                                },
                                {
                                    "szul_dat": "1968-05-27",
                                    "vendégek": "9"
                                },
                                {
                                    "szul_dat": "1968-06-22",
                                    "vendégek": "20"
                                },
                                {
                                    "szul_dat": "1969-01-01",
                                    "vendégek": "8"
                                },
                                {
                                    "szul_dat": "1969-04-12",
                                    "vendégek": "9"
                                },
                                {
                                    "szul_dat": "1969-06-29",
                                    "vendégek": "6"
                                },
                                {
                                    "szul_dat": "1969-07-16",
                                    "vendégek": "12"
                                },
                                {
                                    "szul_dat": "1969-07-17",
                                    "vendégek": "7"
                                },
                                {
                                    "szul_dat": "1969-10-13",
                                    "vendégek": "9"
                                },
                                {
                                    "szul_dat": "1969-11-27",
                                    "vendégek": "8"
                                },
                                {
                                    "szul_dat": "1970-01-27",
                                    "vendégek": "8"
                                },
                                {
                                    "szul_dat": "1970-08-01",
                                    "vendégek": "18"
                                },
                                {
                                    "szul_dat": "1970-08-16",
                                    "vendégek": "10"
                                },
                                {
                                    "szul_dat": "1971-03-09",
                                    "vendégek": "16"
                                },
                                {
                                    "szul_dat": "1971-03-20",
                                    "vendégek": "7"
                                },
                                {
                                    "szul_dat": "1971-04-02",
                                    "vendégek": "14"
                                },
                                {
                                    "szul_dat": "1971-04-26",
                                    "vendégek": "9"
                                },
                                {
                                    "szul_dat": "1971-08-19",
                                    "vendégek": "6"
                                },
                                {
                                    "szul_dat": "1972-01-10",
                                    "vendégek": "14"
                                },
                                {
                                    "szul_dat": "1972-04-06",
                                    "vendégek": "16"
                                },
                                {
                                    "szul_dat": "1973-04-05",
                                    "vendégek": "22"
                                },
                                {
                                    "szul_dat": "1973-06-03",
                                    "vendégek": "6"
                                },
                                {
                                    "szul_dat": "1973-06-21",
                                    "vendégek": "11"
                                },
                                {
                                    "szul_dat": "1973-07-15",
                                    "vendégek": "10"
                                },
                                {
                                    "szul_dat": "1974-02-11",
                                    "vendégek": "15"
                                },
                                {
                                    "szul_dat": "1974-02-12",
                                    "vendégek": "17"
                                },
                                {
                                    "szul_dat": "1974-06-07",
                                    "vendégek": "14"
                                },
                                {
                                    "szul_dat": "1974-10-01",
                                    "vendégek": "7"
                                },
                                {
                                    "szul_dat": "1975-01-03",
                                    "vendégek": "13"
                                },
                                {
                                    "szul_dat": "1975-02-19",
                                    "vendégek": "9"
                                },
                                {
                                    "szul_dat": "1975-03-14",
                                    "vendégek": "8"
                                },
                                {
                                    "szul_dat": "1975-03-22",
                                    "vendégek": "13"
                                },
                                {
                                    "szul_dat": "1975-03-31",
                                    "vendégek": "17"
                                },
                                {
                                    "szul_dat": "1975-05-26",
                                    "vendégek": "13"
                                },
                                {
                                    "szul_dat": "1975-08-22",
                                    "vendégek": "10"
                                },
                                {
                                    "szul_dat": "1975-11-06",
                                    "vendégek": "6"
                                },
                                {
                                    "szul_dat": "1976-01-26",
                                    "vendégek": "8"
                                },
                                {
                                    "szul_dat": "1976-03-18",
                                    "vendégek": "8"
                                },
                                {
                                    "szul_dat": "1976-06-25",
                                    "vendégek": "13"
                                },
                                {
                                    "szul_dat": "1976-08-01",
                                    "vendégek": "17"
                                },
                                {
                                    "szul_dat": "1976-10-14",
                                    "vendégek": "9"
                                },
                                {
                                    "szul_dat": "1976-12-11",
                                    "vendégek": "10"
                                },
                                {
                                    "szul_dat": "1977-01-08",
                                    "vendégek": "5"
                                },
                                {
                                    "szul_dat": "1977-06-07",
                                    "vendégek": "9"
                                },
                                {
                                    "szul_dat": "1977-09-26",
                                    "vendégek": "12"
                                },
                                {
                                    "szul_dat": "1977-10-15",
                                    "vendégek": "9"
                                },
                                {
                                    "szul_dat": "1977-11-16",
                                    "vendégek": "12"
                                },
                                {
                                    "szul_dat": "1978-03-26",
                                    "vendégek": "5"
                                },
                                {
                                    "szul_dat": "1978-06-12",
                                    "vendégek": "12"
                                },
                                {
                                    "szul_dat": "1978-08-28",
                                    "vendégek": "6"
                                },
                                {
                                    "szul_dat": "1978-09-04",
                                    "vendégek": "9"
                                },
                                {
                                    "szul_dat": "1978-09-13",
                                    "vendégek": "9"
                                },
                                {
                                    "szul_dat": "1978-11-28",
                                    "vendégek": "16"
                                },
                                {
                                    "szul_dat": "1979-03-06",
                                    "vendégek": "5"
                                },
                                {
                                    "szul_dat": "1979-05-10",
                                    "vendégek": "15"
                                },
                                {
                                    "szul_dat": "1979-10-12",
                                    "vendégek": "7"
                                },
                                {
                                    "szul_dat": "1979-11-25",
                                    "vendégek": "5"
                                },
                                {
                                    "szul_dat": "1979-12-10",
                                    "vendégek": "10"
                                },
                                {
                                    "szul_dat": "1980-03-23",
                                    "vendégek": "13"
                                },
                                {
                                    "szul_dat": "1980-08-11",
                                    "vendégek": "16"
                                },
                                {
                                    "szul_dat": "1980-12-26",
                                    "vendégek": "8"
                                },
                                {
                                    "szul_dat": "1981-04-06",
                                    "vendégek": "9"
                                },
                                {
                                    "szul_dat": "1981-05-17",
                                    "vendégek": "6"
                                },
                                {
                                    "szul_dat": "1981-09-29",
                                    "vendégek": "7"
                                },
                                {
                                    "szul_dat": "1981-12-24",
                                    "vendégek": "8"
                                },
                                {
                                    "szul_dat": "1982-04-24",
                                    "vendégek": "16"
                                },
                                {
                                    "szul_dat": "1982-08-16",
                                    "vendégek": "9"
                                },
                                {
                                    "szul_dat": "1982-11-01",
                                    "vendégek": "12"
                                },
                                {
                                    "szul_dat": "1983-02-23",
                                    "vendégek": "6"
                                },
                                {
                                    "szul_dat": "1983-06-15",
                                    "vendégek": "19"
                                },
                                {
                                    "szul_dat": "1983-07-18",
                                    "vendégek": "12"
                                },
                                {
                                    "szul_dat": "1983-08-28",
                                    "vendégek": "8"
                                },
                                {
                                    "szul_dat": "1983-09-29",
                                    "vendégek": "9"
                                },
                                {
                                    "szul_dat": "1983-10-08",
                                    "vendégek": "5"
                                },
                                {
                                    "szul_dat": "1983-11-27",
                                    "vendégek": "5"
                                },
                                {
                                    "szul_dat": "1984-03-05",
                                    "vendégek": "19"
                                },
                                {
                                    "szul_dat": "1984-04-20",
                                    "vendégek": "12"
                                },
                                {
                                    "szul_dat": "1984-09-05",
                                    "vendégek": "7"
                                },
                                {
                                    "szul_dat": "1984-10-12",
                                    "vendégek": "7"
                                },
                                {
                                    "szul_dat": "1984-10-13",
                                    "vendégek": "15"
                                },
                                {
                                    "szul_dat": "1984-10-31",
                                    "vendégek": "16"
                                },
                                {
                                    "szul_dat": "1985-09-01",
                                    "vendégek": "22"
                                },
                                {
                                    "szul_dat": "1985-11-01",
                                    "vendégek": "5"
                                },
                                {
                                    "szul_dat": "1985-12-31",
                                    "vendégek": "7"
                                },
                                {
                                    "szul_dat": "1986-01-09",
                                    "vendégek": "10"
                                },
                                {
                                    "szul_dat": "1986-04-13",
                                    "vendégek": "9"
                                },
                                {
                                    "szul_dat": "1986-04-20",
                                    "vendégek": "8"
                                },
                                {
                                    "szul_dat": "1986-05-20",
                                    "vendégek": "19"
                                },
                                {
                                    "szul_dat": "1986-06-28",
                                    "vendégek": "7"
                                },
                                {
                                    "szul_dat": "1986-09-09",
                                    "vendégek": "13"
                                },
                                {
                                    "szul_dat": "1986-10-14",
                                    "vendégek": "14"
                                },
                                {
                                    "szul_dat": "1986-12-05",
                                    "vendégek": "6"
                                },
                                {
                                    "szul_dat": "1987-03-15",
                                    "vendégek": "10"
                                },
                                {
                                    "szul_dat": "1987-05-10",
                                    "vendégek": "7"
                                },
                                {
                                    "szul_dat": "1987-07-09",
                                    "vendégek": "14"
                                },
                                {
                                    "szul_dat": "1987-09-19",
                                    "vendégek": "9"
                                },
                                {
                                    "szul_dat": "1987-12-07",
                                    "vendégek": "12"
                                },
                                {
                                    "szul_dat": "1988-05-17",
                                    "vendégek": "8"
                                },
                                {
                                    "szul_dat": "1988-05-27",
                                    "vendégek": "8"
                                },
                                {
                                    "szul_dat": "1988-12-14",
                                    "vendégek": "10"
                                },
                                {
                                    "szul_dat": "1989-01-27",
                                    "vendégek": "8"
                                },
                                {
                                    "szul_dat": "1989-05-05",
                                    "vendégek": "5"
                                },
                                {
                                    "szul_dat": "1989-06-24",
                                    "vendégek": "10"
                                },
                                {
                                    "szul_dat": "1989-08-10",
                                    "vendégek": "30"
                                },
                                {
                                    "szul_dat": "1989-08-24",
                                    "vendégek": "17"
                                },
                                {
                                    "szul_dat": "1990-04-27",
                                    "vendégek": "5"
                                },
                                {
                                    "szul_dat": "1990-05-18",
                                    "vendégek": "11"
                                },
                                {
                                    "szul_dat": "1990-06-08",
                                    "vendégek": "13"
                                },
                                {
                                    "szul_dat": "1990-08-06",
                                    "vendégek": "6"
                                },
                                {
                                    "szul_dat": "1990-09-29",
                                    "vendégek": "9"
                                },
                                {
                                    "szul_dat": "1991-03-26",
                                    "vendégek": "8"
                                },
                                {
                                    "szul_dat": "1991-05-23",
                                    "vendégek": "9"
                                },
                                {
                                    "szul_dat": "1991-07-01",
                                    "vendégek": "11"
                                },
                                {
                                    "szul_dat": "1991-07-05",
                                    "vendégek": "8"
                                },
                                {
                                    "szul_dat": "1991-07-17",
                                    "vendégek": "10"
                                },
                                {
                                    "szul_dat": "1991-12-28",
                                    "vendégek": "6"
                                },
                                {
                                    "szul_dat": "1992-03-03",
                                    "vendégek": "8"
                                },
                                {
                                    "szul_dat": "1992-03-25",
                                    "vendégek": "11"
                                },
                                {
                                    "szul_dat": "1992-09-09",
                                    "vendégek": "10"
                                },
                                {
                                    "szul_dat": "1992-11-03",
                                    "vendégek": "11"
                                },
                                {
                                    "szul_dat": "1993-03-02",
                                    "vendégek": "7"
                                },
                                {
                                    "szul_dat": "1993-03-25",
                                    "vendégek": "10"
                                },
                                {
                                    "szul_dat": "1993-06-28",
                                    "vendégek": "5"
                                },
                                {
                                    "szul_dat": "1993-09-25",
                                    "vendégek": "10"
                                },
                                {
                                    "szul_dat": "1994-02-04",
                                    "vendégek": "9"
                                },
                                {
                                    "szul_dat": "1994-03-19",
                                    "vendégek": "9"
                                },
                                {
                                    "szul_dat": "1994-10-07",
                                    "vendégek": "5"
                                },
                                {
                                    "szul_dat": "1995-02-24",
                                    "vendégek": "7"
                                },
                                {
                                    "szul_dat": "1995-05-01",
                                    "vendégek": "15"
                                },
                                {
                                    "szul_dat": "1995-05-08",
                                    "vendégek": "7"
                                },
                                {
                                    "szul_dat": "1995-05-18",
                                    "vendégek": "12"
                                },
                                {
                                    "szul_dat": "1995-10-07",
                                    "vendégek": "7"
                                },
                                {
                                    "szul_dat": "1995-11-19",
                                    "vendégek": "13"
                                },
                                {
                                    "szul_dat": "1996-01-23",
                                    "vendégek": "9"
                                },
                                {
                                    "szul_dat": "1996-05-03",
                                    "vendégek": "5"
                                },
                                {
                                    "szul_dat": "1996-08-16",
                                    "vendégek": "13"
                                },
                                {
                                    "szul_dat": "1996-08-20",
                                    "vendégek": "14"
                                },
                                {
                                    "szul_dat": "1997-02-24",
                                    "vendégek": "11"
                                },
                                {
                                    "szul_dat": "1997-02-28",
                                    "vendégek": "5"
                                },
                                {
                                    "szul_dat": "1997-05-29",
                                    "vendégek": "7"
                                },
                                {
                                    "szul_dat": "1997-06-11",
                                    "vendégek": "6"
                                },
                                {
                                    "szul_dat": "1997-09-23",
                                    "vendégek": "5"
                                },
                                {
                                    "szul_dat": "1997-10-19",
                                    "vendégek": "8"
                                },
                                {
                                    "szul_dat": "1997-10-25",
                                    "vendégek": "20"
                                },
                                {
                                    "szul_dat": "1997-10-31",
                                    "vendégek": "8"
                                },
                                {
                                    "szul_dat": "1997-11-06",
                                    "vendégek": "17"
                                },
                                {
                                    "szul_dat": "1997-12-01",
                                    "vendégek": "9"
                                },
                                {
                                    "szul_dat": "1998-01-31",
                                    "vendégek": "14"
                                }
                            ]
                        },
                        "text/html": [
                            "<table>",
                            "<tr><th>szul_dat</th><th>vendégek</th></tr>",
                            "<tr><td>1967-01-03</td><td>16</td></tr>",
                            "<tr><td>1967-02-25</td><td>10</td></tr>",
                            "<tr><td>1967-04-11</td><td>6</td></tr>",
                            "<tr><td>1967-06-30</td><td>5</td></tr>",
                            "<tr><td>1967-07-02</td><td>13</td></tr>",
                            "<tr><td>1967-09-28</td><td>10</td></tr>",
                            "<tr><td>1967-11-02</td><td>9</td></tr>",
                            "<tr><td>1968-01-01</td><td>9</td></tr>",
                            "<tr><td>1968-02-06</td><td>13</td></tr>",
                            "<tr><td>1968-03-21</td><td>9</td></tr>",
                            "<tr><td>1968-05-07</td><td>8</td></tr>",
                            "<tr><td>1968-05-27</td><td>9</td></tr>",
                            "<tr><td>1968-06-22</td><td>20</td></tr>",
                            "<tr><td>1969-01-01</td><td>8</td></tr>",
                            "<tr><td>1969-04-12</td><td>9</td></tr>",
                            "<tr><td>1969-06-29</td><td>6</td></tr>",
                            "<tr><td>1969-07-16</td><td>12</td></tr>",
                            "<tr><td>1969-07-17</td><td>7</td></tr>",
                            "<tr><td>1969-10-13</td><td>9</td></tr>",
                            "<tr><td>1969-11-27</td><td>8</td></tr>",
                            "<tr><td>1970-01-27</td><td>8</td></tr>",
                            "<tr><td>1970-08-01</td><td>18</td></tr>",
                            "<tr><td>1970-08-16</td><td>10</td></tr>",
                            "<tr><td>1971-03-09</td><td>16</td></tr>",
                            "<tr><td>1971-03-20</td><td>7</td></tr>",
                            "<tr><td>1971-04-02</td><td>14</td></tr>",
                            "<tr><td>1971-04-26</td><td>9</td></tr>",
                            "<tr><td>1971-08-19</td><td>6</td></tr>",
                            "<tr><td>1972-01-10</td><td>14</td></tr>",
                            "<tr><td>1972-04-06</td><td>16</td></tr>",
                            "<tr><td>1973-04-05</td><td>22</td></tr>",
                            "<tr><td>1973-06-03</td><td>6</td></tr>",
                            "<tr><td>1973-06-21</td><td>11</td></tr>",
                            "<tr><td>1973-07-15</td><td>10</td></tr>",
                            "<tr><td>1974-02-11</td><td>15</td></tr>",
                            "<tr><td>1974-02-12</td><td>17</td></tr>",
                            "<tr><td>1974-06-07</td><td>14</td></tr>",
                            "<tr><td>1974-10-01</td><td>7</td></tr>",
                            "<tr><td>1975-01-03</td><td>13</td></tr>",
                            "<tr><td>1975-02-19</td><td>9</td></tr>",
                            "<tr><td>1975-03-14</td><td>8</td></tr>",
                            "<tr><td>1975-03-22</td><td>13</td></tr>",
                            "<tr><td>1975-03-31</td><td>17</td></tr>",
                            "<tr><td>1975-05-26</td><td>13</td></tr>",
                            "<tr><td>1975-08-22</td><td>10</td></tr>",
                            "<tr><td>1975-11-06</td><td>6</td></tr>",
                            "<tr><td>1976-01-26</td><td>8</td></tr>",
                            "<tr><td>1976-03-18</td><td>8</td></tr>",
                            "<tr><td>1976-06-25</td><td>13</td></tr>",
                            "<tr><td>1976-08-01</td><td>17</td></tr>",
                            "<tr><td>1976-10-14</td><td>9</td></tr>",
                            "<tr><td>1976-12-11</td><td>10</td></tr>",
                            "<tr><td>1977-01-08</td><td>5</td></tr>",
                            "<tr><td>1977-06-07</td><td>9</td></tr>",
                            "<tr><td>1977-09-26</td><td>12</td></tr>",
                            "<tr><td>1977-10-15</td><td>9</td></tr>",
                            "<tr><td>1977-11-16</td><td>12</td></tr>",
                            "<tr><td>1978-03-26</td><td>5</td></tr>",
                            "<tr><td>1978-06-12</td><td>12</td></tr>",
                            "<tr><td>1978-08-28</td><td>6</td></tr>",
                            "<tr><td>1978-09-04</td><td>9</td></tr>",
                            "<tr><td>1978-09-13</td><td>9</td></tr>",
                            "<tr><td>1978-11-28</td><td>16</td></tr>",
                            "<tr><td>1979-03-06</td><td>5</td></tr>",
                            "<tr><td>1979-05-10</td><td>15</td></tr>",
                            "<tr><td>1979-10-12</td><td>7</td></tr>",
                            "<tr><td>1979-11-25</td><td>5</td></tr>",
                            "<tr><td>1979-12-10</td><td>10</td></tr>",
                            "<tr><td>1980-03-23</td><td>13</td></tr>",
                            "<tr><td>1980-08-11</td><td>16</td></tr>",
                            "<tr><td>1980-12-26</td><td>8</td></tr>",
                            "<tr><td>1981-04-06</td><td>9</td></tr>",
                            "<tr><td>1981-05-17</td><td>6</td></tr>",
                            "<tr><td>1981-09-29</td><td>7</td></tr>",
                            "<tr><td>1981-12-24</td><td>8</td></tr>",
                            "<tr><td>1982-04-24</td><td>16</td></tr>",
                            "<tr><td>1982-08-16</td><td>9</td></tr>",
                            "<tr><td>1982-11-01</td><td>12</td></tr>",
                            "<tr><td>1983-02-23</td><td>6</td></tr>",
                            "<tr><td>1983-06-15</td><td>19</td></tr>",
                            "<tr><td>1983-07-18</td><td>12</td></tr>",
                            "<tr><td>1983-08-28</td><td>8</td></tr>",
                            "<tr><td>1983-09-29</td><td>9</td></tr>",
                            "<tr><td>1983-10-08</td><td>5</td></tr>",
                            "<tr><td>1983-11-27</td><td>5</td></tr>",
                            "<tr><td>1984-03-05</td><td>19</td></tr>",
                            "<tr><td>1984-04-20</td><td>12</td></tr>",
                            "<tr><td>1984-09-05</td><td>7</td></tr>",
                            "<tr><td>1984-10-12</td><td>7</td></tr>",
                            "<tr><td>1984-10-13</td><td>15</td></tr>",
                            "<tr><td>1984-10-31</td><td>16</td></tr>",
                            "<tr><td>1985-09-01</td><td>22</td></tr>",
                            "<tr><td>1985-11-01</td><td>5</td></tr>",
                            "<tr><td>1985-12-31</td><td>7</td></tr>",
                            "<tr><td>1986-01-09</td><td>10</td></tr>",
                            "<tr><td>1986-04-13</td><td>9</td></tr>",
                            "<tr><td>1986-04-20</td><td>8</td></tr>",
                            "<tr><td>1986-05-20</td><td>19</td></tr>",
                            "<tr><td>1986-06-28</td><td>7</td></tr>",
                            "<tr><td>1986-09-09</td><td>13</td></tr>",
                            "<tr><td>1986-10-14</td><td>14</td></tr>",
                            "<tr><td>1986-12-05</td><td>6</td></tr>",
                            "<tr><td>1987-03-15</td><td>10</td></tr>",
                            "<tr><td>1987-05-10</td><td>7</td></tr>",
                            "<tr><td>1987-07-09</td><td>14</td></tr>",
                            "<tr><td>1987-09-19</td><td>9</td></tr>",
                            "<tr><td>1987-12-07</td><td>12</td></tr>",
                            "<tr><td>1988-05-17</td><td>8</td></tr>",
                            "<tr><td>1988-05-27</td><td>8</td></tr>",
                            "<tr><td>1988-12-14</td><td>10</td></tr>",
                            "<tr><td>1989-01-27</td><td>8</td></tr>",
                            "<tr><td>1989-05-05</td><td>5</td></tr>",
                            "<tr><td>1989-06-24</td><td>10</td></tr>",
                            "<tr><td>1989-08-10</td><td>30</td></tr>",
                            "<tr><td>1989-08-24</td><td>17</td></tr>",
                            "<tr><td>1990-04-27</td><td>5</td></tr>",
                            "<tr><td>1990-05-18</td><td>11</td></tr>",
                            "<tr><td>1990-06-08</td><td>13</td></tr>",
                            "<tr><td>1990-08-06</td><td>6</td></tr>",
                            "<tr><td>1990-09-29</td><td>9</td></tr>",
                            "<tr><td>1991-03-26</td><td>8</td></tr>",
                            "<tr><td>1991-05-23</td><td>9</td></tr>",
                            "<tr><td>1991-07-01</td><td>11</td></tr>",
                            "<tr><td>1991-07-05</td><td>8</td></tr>",
                            "<tr><td>1991-07-17</td><td>10</td></tr>",
                            "<tr><td>1991-12-28</td><td>6</td></tr>",
                            "<tr><td>1992-03-03</td><td>8</td></tr>",
                            "<tr><td>1992-03-25</td><td>11</td></tr>",
                            "<tr><td>1992-09-09</td><td>10</td></tr>",
                            "<tr><td>1992-11-03</td><td>11</td></tr>",
                            "<tr><td>1993-03-02</td><td>7</td></tr>",
                            "<tr><td>1993-03-25</td><td>10</td></tr>",
                            "<tr><td>1993-06-28</td><td>5</td></tr>",
                            "<tr><td>1993-09-25</td><td>10</td></tr>",
                            "<tr><td>1994-02-04</td><td>9</td></tr>",
                            "<tr><td>1994-03-19</td><td>9</td></tr>",
                            "<tr><td>1994-10-07</td><td>5</td></tr>",
                            "<tr><td>1995-02-24</td><td>7</td></tr>",
                            "<tr><td>1995-05-01</td><td>15</td></tr>",
                            "<tr><td>1995-05-08</td><td>7</td></tr>",
                            "<tr><td>1995-05-18</td><td>12</td></tr>",
                            "<tr><td>1995-10-07</td><td>7</td></tr>",
                            "<tr><td>1995-11-19</td><td>13</td></tr>",
                            "<tr><td>1996-01-23</td><td>9</td></tr>",
                            "<tr><td>1996-05-03</td><td>5</td></tr>",
                            "<tr><td>1996-08-16</td><td>13</td></tr>",
                            "<tr><td>1996-08-20</td><td>14</td></tr>",
                            "<tr><td>1997-02-24</td><td>11</td></tr>",
                            "<tr><td>1997-02-28</td><td>5</td></tr>",
                            "<tr><td>1997-05-29</td><td>7</td></tr>",
                            "<tr><td>1997-06-11</td><td>6</td></tr>",
                            "<tr><td>1997-09-23</td><td>5</td></tr>",
                            "<tr><td>1997-10-19</td><td>8</td></tr>",
                            "<tr><td>1997-10-25</td><td>20</td></tr>",
                            "<tr><td>1997-10-31</td><td>8</td></tr>",
                            "<tr><td>1997-11-06</td><td>17</td></tr>",
                            "<tr><td>1997-12-01</td><td>9</td></tr>",
                            "<tr><td>1998-01-31</td><td>14</td></tr>",
                            "</table>"
                        ]
                    }
                }
            ],
            "execution_count": 1
        },
        {
            "cell_type": "code",
            "source": [
                "select sz.szallas_nev ,  IIF(sz.TIPUS = 'panzió', 'igen', 'nem') as 'Panzio'\r\n",
                "from szoba szo join SZALLASHELY sz on szo.SZALLAS_FK = sz.SZALLAS_ID\r\n",
                "where sz.hely is NULL"
            ],
            "metadata": {
                "azdata_cell_guid": "949158a1-98c2-40be-8125-17b23be3423a",
                "language": "sql",
                "tags": []
            },
            "outputs": [
                {
                    "output_type": "display_data",
                    "data": {
                        "text/html": "(0 rows affected)"
                    },
                    "metadata": {}
                },
                {
                    "output_type": "display_data",
                    "data": {
                        "text/html": "Total execution time: 00:00:00.016"
                    },
                    "metadata": {}
                },
                {
                    "output_type": "execute_result",
                    "metadata": {},
                    "execution_count": 5,
                    "data": {
                        "application/vnd.dataresource+json": {
                            "schema": {
                                "fields": [
                                    {
                                        "name": "szallas_nev"
                                    },
                                    {
                                        "name": "Panzio"
                                    }
                                ]
                            },
                            "data": []
                        },
                        "text/html": [
                            "<table>",
                            "<tr><th>szallas_nev</th><th>Panzio</th></tr>",
                            "</table>"
                        ]
                    }
                }
            ],
            "execution_count": 5
        }
    ]
}