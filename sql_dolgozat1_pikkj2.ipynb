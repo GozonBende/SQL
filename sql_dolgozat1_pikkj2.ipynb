{
    "metadata": {
        "kernelspec": {
            "name": "SQL",
            "display_name": "SQL",
            "language": "sql"
        },
        "language_info": {
            "name": "sql",
            "version": ""
        }
    },
    "nbformat_minor": 2,
    "nbformat": 4,
    "cells": [
        {
            "cell_type": "code",
            "source": [
                "SELECT v.szul_dat , sum(FELNOTT_SZAM) as 'vendégek'\r\n",
                "From foglalas f join Vendeg v on f.UGYFEL_FK = v.USERNEV\r\n",
                "group by v.SZUL_DAT\r\n",
                "having sum(FELNOTT_SZAM) >= 5\r\n",
                "order by SZUL_DAT \r\n",
                "\r\n",
                ""
            ],
            "metadata": {
                "azdata_cell_guid": "bc4b1864-3d34-4836-bb70-6985e761e690",
                "language": "sql",
                "tags": []
            },
            "outputs": [],
            "execution_count": null
        },
        {
            "cell_type": "code",
            "source": [
                "select sz.szallas_nev ,  IIF(sz.TIPUS = 'panzio', 'igen', 'nem') as 'Panzio'\r\n",
                "from szoba szo join SZALLASHELY sz on szo.SZALLAS_FK = sz.SZALLAS_ID\r\n",
                "where sz.hely is NULL"
            ],
            "metadata": {
                "azdata_cell_guid": "949158a1-98c2-40be-8125-17b23be3423a",
                "language": "sql",
                "tags": []
            },
            "outputs": [
                {
                    "output_type": "display_data",
                    "data": {
                        "text/html": "(294 rows affected)"
                    },
                    "metadata": {}
                },
                {
                    "output_type": "display_data",
                    "data": {
                        "text/html": "Total execution time: 00:00:00.051"
                    },
                    "metadata": {}
                },
                {
                    "output_type": "execute_result",
                    "metadata": {},
                    "execution_count": 14,
                    "data": {
                        "application/vnd.dataresource+json": {
                            "schema": {
                                "fields": [
                                    {
                                        "name": "szallas_nev"
                                    },
                                    {
                                        "name": "Panzio"
                                    }
                                ]
                            },
                            "data": [
                                {
                                    "szallas_nev": "Sába-Ház",
                                    "Panzio": "nem"
                                },
                                {
                                    "szallas_nev": "Sába-Ház",
                                    "Panzio": "nem"
                                },
                                {
                                    "szallas_nev": "Sába-Ház",
                                    "Panzio": "nem"
                                },
                                {
                                    "szallas_nev": "Sába-Ház",
                                    "Panzio": "nem"
                                },
                                {
                                    "szallas_nev": "Sába-Ház",
                                    "Panzio": "nem"
                                },
                                {
                                    "szallas_nev": "Sába-Ház",
                                    "Panzio": "nem"
                                },
                                {
                                    "szallas_nev": "Sába-Ház",
                                    "Panzio": "nem"
                                },
                                {
                                    "szallas_nev": "Sába-Ház",
                                    "Panzio": "nem"
                                },
                                {
                                    "szallas_nev": "Sába-Ház",
                                    "Panzio": "nem"
                                },
                                {
                                    "szallas_nev": "Sába-Ház",
                                    "Panzio": "nem"
                                },
                                {
                                    "szallas_nev": "Sába-Ház",
                                    "Panzio": "nem"
                                },
                                {
                                    "szallas_nev": "Sába-Ház",
                                    "Panzio": "nem"
                                },
                                {
                                    "szallas_nev": "Családi Ház",
                                    "Panzio": "nem"
                                },
                                {
                                    "szallas_nev": "Családi Ház",
                                    "Panzio": "nem"
                                },
                                {
                                    "szallas_nev": "Családi Ház",
                                    "Panzio": "nem"
                                },
                                {
                                    "szallas_nev": "Családi Ház",
                                    "Panzio": "nem"
                                },
                                {
                                    "szallas_nev": "Fortuna Apartman",
                                    "Panzio": "nem"
                                },
                                {
                                    "szallas_nev": "Fortuna Apartman",
                                    "Panzio": "nem"
                                },
                                {
                                    "szallas_nev": "Fortuna Apartman",
                                    "Panzio": "nem"
                                },
                                {
                                    "szallas_nev": "Fortuna Apartman",
                                    "Panzio": "nem"
                                },
                                {
                                    "szallas_nev": "Fortuna Apartman",
                                    "Panzio": "nem"
                                },
                                {
                                    "szallas_nev": "Fortuna Apartman",
                                    "Panzio": "nem"
                                },
                                {
                                    "szallas_nev": "Fortuna Apartman",
                                    "Panzio": "nem"
                                },
                                {
                                    "szallas_nev": "Fortuna Apartman",
                                    "Panzio": "nem"
                                },
                                {
                                    "szallas_nev": "Fortuna panzió",
                                    "Panzio": "nem"
                                },
                                {
                                    "szallas_nev": "Fortuna panzió",
                                    "Panzio": "nem"
                                },
                                {
                                    "szallas_nev": "Fortuna panzió",
                                    "Panzio": "nem"
                                },
                                {
                                    "szallas_nev": "Fortuna panzió",
                                    "Panzio": "nem"
                                },
                                {
                                    "szallas_nev": "Fortuna panzió",
                                    "Panzio": "nem"
                                },
                                {
                                    "szallas_nev": "Fortuna panzió",
                                    "Panzio": "nem"
                                },
                                {
                                    "szallas_nev": "Fortuna panzió",
                                    "Panzio": "nem"
                                },
                                {
                                    "szallas_nev": "Fortuna panzió",
                                    "Panzio": "nem"
                                },
                                {
                                    "szallas_nev": "Fortuna panzió",
                                    "Panzio": "nem"
                                },
                                {
                                    "szallas_nev": "Fortuna panzió",
                                    "Panzio": "nem"
                                },
                                {
                                    "szallas_nev": "Fortuna panzió",
                                    "Panzio": "nem"
                                },
                                {
                                    "szallas_nev": "Fortuna panzió",
                                    "Panzio": "nem"
                                },
                                {
                                    "szallas_nev": "Fortuna panzió",
                                    "Panzio": "nem"
                                },
                                {
                                    "szallas_nev": "Fortuna panzió",
                                    "Panzio": "nem"
                                },
                                {
                                    "szallas_nev": "Fortuna panzió",
                                    "Panzio": "nem"
                                },
                                {
                                    "szallas_nev": "Fortuna Panzió",
                                    "Panzio": "nem"
                                },
                                {
                                    "szallas_nev": "Fortuna Panzió",
                                    "Panzio": "nem"
                                },
                                {
                                    "szallas_nev": "Fortuna Panzió",
                                    "Panzio": "nem"
                                },
                                {
                                    "szallas_nev": "Fortuna Panzió",
                                    "Panzio": "nem"
                                },
                                {
                                    "szallas_nev": "Fortuna Panzió",
                                    "Panzio": "nem"
                                },
                                {
                                    "szallas_nev": "Fortuna Panzió",
                                    "Panzio": "nem"
                                },
                                {
                                    "szallas_nev": "Fortuna Panzió",
                                    "Panzio": "nem"
                                },
                                {
                                    "szallas_nev": "Fortuna Panzió",
                                    "Panzio": "nem"
                                },
                                {
                                    "szallas_nev": "Fortuna Panzió",
                                    "Panzio": "nem"
                                },
                                {
                                    "szallas_nev": "Fortuna Panzió",
                                    "Panzio": "nem"
                                },
                                {
                                    "szallas_nev": "Kentaur Hotel",
                                    "Panzio": "nem"
                                },
                                {
                                    "szallas_nev": "Kentaur Hotel",
                                    "Panzio": "nem"
                                },
                                {
                                    "szallas_nev": "Kentaur Hotel",
                                    "Panzio": "nem"
                                },
                                {
                                    "szallas_nev": "Kentaur Hotel",
                                    "Panzio": "nem"
                                },
                                {
                                    "szallas_nev": "Kentaur Hotel",
                                    "Panzio": "nem"
                                },
                                {
                                    "szallas_nev": "Kentaur Hotel",
                                    "Panzio": "nem"
                                },
                                {
                                    "szallas_nev": "Kentaur Hotel",
                                    "Panzio": "nem"
                                },
                                {
                                    "szallas_nev": "Kentaur Hotel",
                                    "Panzio": "nem"
                                },
                                {
                                    "szallas_nev": "Kentaur Hotel",
                                    "Panzio": "nem"
                                },
                                {
                                    "szallas_nev": "Kentaur Hotel",
                                    "Panzio": "nem"
                                },
                                {
                                    "szallas_nev": "Kentaur Hotel",
                                    "Panzio": "nem"
                                },
                                {
                                    "szallas_nev": "Kentaur Hotel",
                                    "Panzio": "nem"
                                },
                                {
                                    "szallas_nev": "Kentaur Hotel",
                                    "Panzio": "nem"
                                },
                                {
                                    "szallas_nev": "Kentaur Hotel",
                                    "Panzio": "nem"
                                },
                                {
                                    "szallas_nev": "Kentaur Hotel",
                                    "Panzio": "nem"
                                },
                                {
                                    "szallas_nev": "Kentaur Hotel",
                                    "Panzio": "nem"
                                },
                                {
                                    "szallas_nev": "Kentaur Hotel",
                                    "Panzio": "nem"
                                },
                                {
                                    "szallas_nev": "Kentaur Hotel",
                                    "Panzio": "nem"
                                },
                                {
                                    "szallas_nev": "Kentaur Hotel",
                                    "Panzio": "nem"
                                },
                                {
                                    "szallas_nev": "Kentaur Hotel",
                                    "Panzio": "nem"
                                },
                                {
                                    "szallas_nev": "Kentaur Hotel",
                                    "Panzio": "nem"
                                },
                                {
                                    "szallas_nev": "Kentaur Hotel",
                                    "Panzio": "nem"
                                },
                                {
                                    "szallas_nev": "Kentaur Hotel",
                                    "Panzio": "nem"
                                },
                                {
                                    "szallas_nev": "Kentaur Hotel",
                                    "Panzio": "nem"
                                },
                                {
                                    "szallas_nev": "Kentaur Hotel",
                                    "Panzio": "nem"
                                },
                                {
                                    "szallas_nev": "Kentaur Hotel",
                                    "Panzio": "nem"
                                },
                                {
                                    "szallas_nev": "Kentaur Hotel",
                                    "Panzio": "nem"
                                },
                                {
                                    "szallas_nev": "Kentaur Hotel",
                                    "Panzio": "nem"
                                },
                                {
                                    "szallas_nev": "Kentaur Hotel",
                                    "Panzio": "nem"
                                },
                                {
                                    "szallas_nev": "Kentaur Hotel",
                                    "Panzio": "nem"
                                },
                                {
                                    "szallas_nev": "Kentaur Hotel",
                                    "Panzio": "nem"
                                },
                                {
                                    "szallas_nev": "Kentaur Hotel",
                                    "Panzio": "nem"
                                },
                                {
                                    "szallas_nev": "Kentaur Hotel",
                                    "Panzio": "nem"
                                },
                                {
                                    "szallas_nev": "Kentaur Hotel",
                                    "Panzio": "nem"
                                },
                                {
                                    "szallas_nev": "Kentaur Hotel",
                                    "Panzio": "nem"
                                },
                                {
                                    "szallas_nev": "Szieszta Apartmanház",
                                    "Panzio": "nem"
                                },
                                {
                                    "szallas_nev": "Szieszta Apartmanház",
                                    "Panzio": "nem"
                                },
                                {
                                    "szallas_nev": "Szieszta Apartmanház",
                                    "Panzio": "nem"
                                },
                                {
                                    "szallas_nev": "Szieszta Apartmanház",
                                    "Panzio": "nem"
                                },
                                {
                                    "szallas_nev": "Szieszta Apartmanház",
                                    "Panzio": "nem"
                                },
                                {
                                    "szallas_nev": "Szieszta Apartmanház",
                                    "Panzio": "nem"
                                },
                                {
                                    "szallas_nev": "Hotel Három Hattyú",
                                    "Panzio": "nem"
                                },
                                {
                                    "szallas_nev": "Hotel Három Hattyú",
                                    "Panzio": "nem"
                                },
                                {
                                    "szallas_nev": "Hotel Három Hattyú",
                                    "Panzio": "nem"
                                },
                                {
                                    "szallas_nev": "Hotel Három Hattyú",
                                    "Panzio": "nem"
                                },
                                {
                                    "szallas_nev": "Hotel Három Hattyú",
                                    "Panzio": "nem"
                                },
                                {
                                    "szallas_nev": "Hotel Három Hattyú",
                                    "Panzio": "nem"
                                },
                                {
                                    "szallas_nev": "Hotel Három Hattyú",
                                    "Panzio": "nem"
                                },
                                {
                                    "szallas_nev": "Hotel Három Hattyú",
                                    "Panzio": "nem"
                                },
                                {
                                    "szallas_nev": "Hotel Három Hattyú",
                                    "Panzio": "nem"
                                },
                                {
                                    "szallas_nev": "Hotel Három Hattyú",
                                    "Panzio": "nem"
                                },
                                {
                                    "szallas_nev": "Hotel Három Hattyú",
                                    "Panzio": "nem"
                                },
                                {
                                    "szallas_nev": "Hotel Három Hattyú",
                                    "Panzio": "nem"
                                },
                                {
                                    "szallas_nev": "Hotel Három Hattyú",
                                    "Panzio": "nem"
                                },
                                {
                                    "szallas_nev": "Hotel Három Hattyú",
                                    "Panzio": "nem"
                                },
                                {
                                    "szallas_nev": "Hotel Három Hattyú",
                                    "Panzio": "nem"
                                },
                                {
                                    "szallas_nev": "Hotel Három Hattyú",
                                    "Panzio": "nem"
                                },
                                {
                                    "szallas_nev": "Hotel Három Hattyú",
                                    "Panzio": "nem"
                                },
                                {
                                    "szallas_nev": "Hotel Három Hattyú",
                                    "Panzio": "nem"
                                },
                                {
                                    "szallas_nev": "Hotel Három Hattyú",
                                    "Panzio": "nem"
                                },
                                {
                                    "szallas_nev": "Hotel Három Hattyú",
                                    "Panzio": "nem"
                                },
                                {
                                    "szallas_nev": "Hotel Három Hattyú",
                                    "Panzio": "nem"
                                },
                                {
                                    "szallas_nev": "Hotel Három Hattyú",
                                    "Panzio": "nem"
                                },
                                {
                                    "szallas_nev": "Hotel Három Hattyú",
                                    "Panzio": "nem"
                                },
                                {
                                    "szallas_nev": "Hotel Három Hattyú",
                                    "Panzio": "nem"
                                },
                                {
                                    "szallas_nev": "Hotel Három Hattyú",
                                    "Panzio": "nem"
                                },
                                {
                                    "szallas_nev": "Hotel Három Hattyú",
                                    "Panzio": "nem"
                                },
                                {
                                    "szallas_nev": "Hotel Három Hattyú",
                                    "Panzio": "nem"
                                },
                                {
                                    "szallas_nev": "Hotel Három Hattyú",
                                    "Panzio": "nem"
                                },
                                {
                                    "szallas_nev": "Hotel Három Hattyú",
                                    "Panzio": "nem"
                                },
                                {
                                    "szallas_nev": "Hotel Három Hattyú",
                                    "Panzio": "nem"
                                },
                                {
                                    "szallas_nev": "Hotel Három Hattyú",
                                    "Panzio": "nem"
                                },
                                {
                                    "szallas_nev": "Hotel Három Hattyú",
                                    "Panzio": "nem"
                                },
                                {
                                    "szallas_nev": "Hotel Három Hattyú",
                                    "Panzio": "nem"
                                },
                                {
                                    "szallas_nev": "Hotel Három Hattyú",
                                    "Panzio": "nem"
                                },
                                {
                                    "szallas_nev": "Hotel Három Hattyú",
                                    "Panzio": "nem"
                                },
                                {
                                    "szallas_nev": "Hotel Három Hattyú",
                                    "Panzio": "nem"
                                },
                                {
                                    "szallas_nev": "Hotel Három Hattyú",
                                    "Panzio": "nem"
                                },
                                {
                                    "szallas_nev": "Hotel Három Hattyú",
                                    "Panzio": "nem"
                                },
                                {
                                    "szallas_nev": "Hotel Három Hattyú",
                                    "Panzio": "nem"
                                },
                                {
                                    "szallas_nev": "Jáde panzió",
                                    "Panzio": "nem"
                                },
                                {
                                    "szallas_nev": "Jáde panzió",
                                    "Panzio": "nem"
                                },
                                {
                                    "szallas_nev": "Jáde panzió",
                                    "Panzio": "nem"
                                },
                                {
                                    "szallas_nev": "Jáde panzió",
                                    "Panzio": "nem"
                                },
                                {
                                    "szallas_nev": "Jáde panzió",
                                    "Panzio": "nem"
                                },
                                {
                                    "szallas_nev": "Lagúna Hotel",
                                    "Panzio": "nem"
                                },
                                {
                                    "szallas_nev": "Lagúna Hotel",
                                    "Panzio": "nem"
                                },
                                {
                                    "szallas_nev": "Lagúna Hotel",
                                    "Panzio": "nem"
                                },
                                {
                                    "szallas_nev": "Lagúna Hotel",
                                    "Panzio": "nem"
                                },
                                {
                                    "szallas_nev": "Lagúna Hotel",
                                    "Panzio": "nem"
                                },
                                {
                                    "szallas_nev": "Lagúna Hotel",
                                    "Panzio": "nem"
                                },
                                {
                                    "szallas_nev": "Lagúna Hotel",
                                    "Panzio": "nem"
                                },
                                {
                                    "szallas_nev": "Lagúna Hotel",
                                    "Panzio": "nem"
                                },
                                {
                                    "szallas_nev": "Lagúna Hotel",
                                    "Panzio": "nem"
                                },
                                {
                                    "szallas_nev": "Lagúna Hotel",
                                    "Panzio": "nem"
                                },
                                {
                                    "szallas_nev": "Lagúna Hotel",
                                    "Panzio": "nem"
                                },
                                {
                                    "szallas_nev": "Lagúna Hotel",
                                    "Panzio": "nem"
                                },
                                {
                                    "szallas_nev": "Lagúna Hotel",
                                    "Panzio": "nem"
                                },
                                {
                                    "szallas_nev": "Lagúna Hotel",
                                    "Panzio": "nem"
                                },
                                {
                                    "szallas_nev": "Lagúna Hotel",
                                    "Panzio": "nem"
                                },
                                {
                                    "szallas_nev": "Lagúna Hotel",
                                    "Panzio": "nem"
                                },
                                {
                                    "szallas_nev": "Lagúna Hotel",
                                    "Panzio": "nem"
                                },
                                {
                                    "szallas_nev": "Lagúna Hotel",
                                    "Panzio": "nem"
                                },
                                {
                                    "szallas_nev": "Lagúna Hotel",
                                    "Panzio": "nem"
                                },
                                {
                                    "szallas_nev": "Lagúna Hotel",
                                    "Panzio": "nem"
                                },
                                {
                                    "szallas_nev": "Lagúna Hotel",
                                    "Panzio": "nem"
                                },
                                {
                                    "szallas_nev": "Lagúna Hotel",
                                    "Panzio": "nem"
                                },
                                {
                                    "szallas_nev": "Lagúna Hotel",
                                    "Panzio": "nem"
                                },
                                {
                                    "szallas_nev": "Lagúna Hotel",
                                    "Panzio": "nem"
                                },
                                {
                                    "szallas_nev": "Lagúna Hotel",
                                    "Panzio": "nem"
                                },
                                {
                                    "szallas_nev": "Partiszél Vendégház",
                                    "Panzio": "nem"
                                },
                                {
                                    "szallas_nev": "Partiszél Vendégház",
                                    "Panzio": "nem"
                                },
                                {
                                    "szallas_nev": "Partiszél Vendégház",
                                    "Panzio": "nem"
                                },
                                {
                                    "szallas_nev": "Partiszél Vendégház",
                                    "Panzio": "nem"
                                },
                                {
                                    "szallas_nev": "Partiszél Vendégház",
                                    "Panzio": "nem"
                                },
                                {
                                    "szallas_nev": "Gold Hotel",
                                    "Panzio": "nem"
                                },
                                {
                                    "szallas_nev": "Gold Hotel",
                                    "Panzio": "nem"
                                },
                                {
                                    "szallas_nev": "Gold Hotel",
                                    "Panzio": "nem"
                                },
                                {
                                    "szallas_nev": "Gold Hotel",
                                    "Panzio": "nem"
                                },
                                {
                                    "szallas_nev": "Gold Hotel",
                                    "Panzio": "nem"
                                },
                                {
                                    "szallas_nev": "Gold Hotel",
                                    "Panzio": "nem"
                                },
                                {
                                    "szallas_nev": "Gold Hotel",
                                    "Panzio": "nem"
                                },
                                {
                                    "szallas_nev": "Gold Hotel",
                                    "Panzio": "nem"
                                },
                                {
                                    "szallas_nev": "Gold Hotel",
                                    "Panzio": "nem"
                                },
                                {
                                    "szallas_nev": "Gold Hotel",
                                    "Panzio": "nem"
                                },
                                {
                                    "szallas_nev": "Gold Hotel",
                                    "Panzio": "nem"
                                },
                                {
                                    "szallas_nev": "Gold Hotel",
                                    "Panzio": "nem"
                                },
                                {
                                    "szallas_nev": "Gold Hotel",
                                    "Panzio": "nem"
                                },
                                {
                                    "szallas_nev": "Gold Hotel",
                                    "Panzio": "nem"
                                },
                                {
                                    "szallas_nev": "Gold Hotel",
                                    "Panzio": "nem"
                                },
                                {
                                    "szallas_nev": "Gold Hotel",
                                    "Panzio": "nem"
                                },
                                {
                                    "szallas_nev": "Gold Hotel",
                                    "Panzio": "nem"
                                },
                                {
                                    "szallas_nev": "Gold Hotel",
                                    "Panzio": "nem"
                                },
                                {
                                    "szallas_nev": "Gold Hotel",
                                    "Panzio": "nem"
                                },
                                {
                                    "szallas_nev": "Gold Hotel",
                                    "Panzio": "nem"
                                },
                                {
                                    "szallas_nev": "Gold Hotel",
                                    "Panzio": "nem"
                                },
                                {
                                    "szallas_nev": "Gold Hotel",
                                    "Panzio": "nem"
                                },
                                {
                                    "szallas_nev": "Gold Hotel",
                                    "Panzio": "nem"
                                },
                                {
                                    "szallas_nev": "Gold Hotel",
                                    "Panzio": "nem"
                                },
                                {
                                    "szallas_nev": "Gold Hotel",
                                    "Panzio": "nem"
                                },
                                {
                                    "szallas_nev": "Gold Hotel",
                                    "Panzio": "nem"
                                },
                                {
                                    "szallas_nev": "Gold Hotel",
                                    "Panzio": "nem"
                                },
                                {
                                    "szallas_nev": "Gold Hotel",
                                    "Panzio": "nem"
                                },
                                {
                                    "szallas_nev": "Gold Hotel",
                                    "Panzio": "nem"
                                },
                                {
                                    "szallas_nev": "Gold Hotel",
                                    "Panzio": "nem"
                                },
                                {
                                    "szallas_nev": "Gold Hotel",
                                    "Panzio": "nem"
                                },
                                {
                                    "szallas_nev": "Gold Hotel",
                                    "Panzio": "nem"
                                },
                                {
                                    "szallas_nev": "Gold Hotel",
                                    "Panzio": "nem"
                                },
                                {
                                    "szallas_nev": "Gold Hotel",
                                    "Panzio": "nem"
                                },
                                {
                                    "szallas_nev": "Gold Hotel",
                                    "Panzio": "nem"
                                },
                                {
                                    "szallas_nev": "Gold Hotel",
                                    "Panzio": "nem"
                                },
                                {
                                    "szallas_nev": "Gold Hotel",
                                    "Panzio": "nem"
                                },
                                {
                                    "szallas_nev": "Gold Hotel",
                                    "Panzio": "nem"
                                },
                                {
                                    "szallas_nev": "Gold Hotel",
                                    "Panzio": "nem"
                                },
                                {
                                    "szallas_nev": "Gold Hotel",
                                    "Panzio": "nem"
                                },
                                {
                                    "szallas_nev": "Gold Hotel",
                                    "Panzio": "nem"
                                },
                                {
                                    "szallas_nev": "Gold Hotel",
                                    "Panzio": "nem"
                                },
                                {
                                    "szallas_nev": "Gold Hotel",
                                    "Panzio": "nem"
                                },
                                {
                                    "szallas_nev": "Gold Hotel",
                                    "Panzio": "nem"
                                },
                                {
                                    "szallas_nev": "Gold Hotel",
                                    "Panzio": "nem"
                                },
                                {
                                    "szallas_nev": "Gold Hotel",
                                    "Panzio": "nem"
                                },
                                {
                                    "szallas_nev": "Gold Hotel",
                                    "Panzio": "nem"
                                },
                                {
                                    "szallas_nev": "Gold Hotel",
                                    "Panzio": "nem"
                                },
                                {
                                    "szallas_nev": "Gold Hotel",
                                    "Panzio": "nem"
                                },
                                {
                                    "szallas_nev": "Gold Hotel",
                                    "Panzio": "nem"
                                },
                                {
                                    "szallas_nev": "Riviéra Panzió",
                                    "Panzio": "nem"
                                },
                                {
                                    "szallas_nev": "Riviéra Panzió",
                                    "Panzio": "nem"
                                },
                                {
                                    "szallas_nev": "Riviéra Panzió",
                                    "Panzio": "nem"
                                },
                                {
                                    "szallas_nev": "Riviéra Panzió",
                                    "Panzio": "nem"
                                },
                                {
                                    "szallas_nev": "Riviéra Panzió",
                                    "Panzio": "nem"
                                },
                                {
                                    "szallas_nev": "Riviéra Panzió",
                                    "Panzio": "nem"
                                },
                                {
                                    "szallas_nev": "Riviéra Panzió",
                                    "Panzio": "nem"
                                },
                                {
                                    "szallas_nev": "Riviéra Panzió",
                                    "Panzio": "nem"
                                },
                                {
                                    "szallas_nev": "Riviéra Panzió",
                                    "Panzio": "nem"
                                },
                                {
                                    "szallas_nev": "Riviéra Panzió",
                                    "Panzio": "nem"
                                },
                                {
                                    "szallas_nev": "Riviéra Panzió",
                                    "Panzio": "nem"
                                },
                                {
                                    "szallas_nev": "Riviéra Panzió",
                                    "Panzio": "nem"
                                },
                                {
                                    "szallas_nev": "Nyárfás Vendégház",
                                    "Panzio": "nem"
                                },
                                {
                                    "szallas_nev": "Nyárfás Vendégház",
                                    "Panzio": "nem"
                                },
                                {
                                    "szallas_nev": "Nyárfás Vendégház",
                                    "Panzio": "nem"
                                },
                                {
                                    "szallas_nev": "Nyárfás Vendégház",
                                    "Panzio": "nem"
                                },
                                {
                                    "szallas_nev": "Tímárház Panzió",
                                    "Panzio": "nem"
                                },
                                {
                                    "szallas_nev": "Tímárház Panzió",
                                    "Panzio": "nem"
                                },
                                {
                                    "szallas_nev": "Tímárház Panzió",
                                    "Panzio": "nem"
                                },
                                {
                                    "szallas_nev": "Tímárház Panzió",
                                    "Panzio": "nem"
                                },
                                {
                                    "szallas_nev": "Tímárház Panzió",
                                    "Panzio": "nem"
                                },
                                {
                                    "szallas_nev": "Tímárház Panzió",
                                    "Panzio": "nem"
                                },
                                {
                                    "szallas_nev": "Tímárház Panzió",
                                    "Panzio": "nem"
                                },
                                {
                                    "szallas_nev": "Tímárház Panzió",
                                    "Panzio": "nem"
                                },
                                {
                                    "szallas_nev": "Tímárház Panzió",
                                    "Panzio": "nem"
                                },
                                {
                                    "szallas_nev": "Tímárház Panzió",
                                    "Panzio": "nem"
                                },
                                {
                                    "szallas_nev": "Tímárház Panzió",
                                    "Panzio": "nem"
                                },
                                {
                                    "szallas_nev": "Tímárház Panzió",
                                    "Panzio": "nem"
                                },
                                {
                                    "szallas_nev": "Bagoly Hotel",
                                    "Panzio": "nem"
                                },
                                {
                                    "szallas_nev": "Bagoly Hotel",
                                    "Panzio": "nem"
                                },
                                {
                                    "szallas_nev": "Bagoly Hotel",
                                    "Panzio": "nem"
                                },
                                {
                                    "szallas_nev": "Bagoly Hotel",
                                    "Panzio": "nem"
                                },
                                {
                                    "szallas_nev": "Bagoly Hotel",
                                    "Panzio": "nem"
                                },
                                {
                                    "szallas_nev": "Bagoly Hotel",
                                    "Panzio": "nem"
                                },
                                {
                                    "szallas_nev": "Bagoly Hotel",
                                    "Panzio": "nem"
                                },
                                {
                                    "szallas_nev": "Bagoly Hotel",
                                    "Panzio": "nem"
                                },
                                {
                                    "szallas_nev": "Bagoly Hotel",
                                    "Panzio": "nem"
                                },
                                {
                                    "szallas_nev": "Bagoly Hotel",
                                    "Panzio": "nem"
                                },
                                {
                                    "szallas_nev": "Bagoly Hotel",
                                    "Panzio": "nem"
                                },
                                {
                                    "szallas_nev": "Bagoly Hotel",
                                    "Panzio": "nem"
                                },
                                {
                                    "szallas_nev": "Bagoly Hotel",
                                    "Panzio": "nem"
                                },
                                {
                                    "szallas_nev": "Bagoly Hotel",
                                    "Panzio": "nem"
                                },
                                {
                                    "szallas_nev": "Bagoly Hotel",
                                    "Panzio": "nem"
                                },
                                {
                                    "szallas_nev": "Bagoly Hotel",
                                    "Panzio": "nem"
                                },
                                {
                                    "szallas_nev": "Bagoly Hotel",
                                    "Panzio": "nem"
                                },
                                {
                                    "szallas_nev": "Bagoly Hotel",
                                    "Panzio": "nem"
                                },
                                {
                                    "szallas_nev": "Bagoly Hotel",
                                    "Panzio": "nem"
                                },
                                {
                                    "szallas_nev": "Bagoly Hotel",
                                    "Panzio": "nem"
                                },
                                {
                                    "szallas_nev": "Szarvas Hotel",
                                    "Panzio": "nem"
                                },
                                {
                                    "szallas_nev": "Szarvas Hotel",
                                    "Panzio": "nem"
                                },
                                {
                                    "szallas_nev": "Szarvas Hotel",
                                    "Panzio": "nem"
                                },
                                {
                                    "szallas_nev": "Szarvas Hotel",
                                    "Panzio": "nem"
                                },
                                {
                                    "szallas_nev": "Szarvas Hotel",
                                    "Panzio": "nem"
                                },
                                {
                                    "szallas_nev": "Szarvas Hotel",
                                    "Panzio": "nem"
                                },
                                {
                                    "szallas_nev": "Szarvas Hotel",
                                    "Panzio": "nem"
                                },
                                {
                                    "szallas_nev": "Szarvas Hotel",
                                    "Panzio": "nem"
                                },
                                {
                                    "szallas_nev": "Szarvas Hotel",
                                    "Panzio": "nem"
                                },
                                {
                                    "szallas_nev": "Szarvas Hotel",
                                    "Panzio": "nem"
                                },
                                {
                                    "szallas_nev": "Szarvas Hotel",
                                    "Panzio": "nem"
                                },
                                {
                                    "szallas_nev": "Szarvas Hotel",
                                    "Panzio": "nem"
                                },
                                {
                                    "szallas_nev": "Szarvas Hotel",
                                    "Panzio": "nem"
                                },
                                {
                                    "szallas_nev": "Szarvas Hotel",
                                    "Panzio": "nem"
                                },
                                {
                                    "szallas_nev": "Szarvas Hotel",
                                    "Panzio": "nem"
                                },
                                {
                                    "szallas_nev": "Fortuna Apartman",
                                    "Panzio": "nem"
                                },
                                {
                                    "szallas_nev": "Fortuna Apartman",
                                    "Panzio": "nem"
                                },
                                {
                                    "szallas_nev": "Fortuna Apartman",
                                    "Panzio": "nem"
                                },
                                {
                                    "szallas_nev": "Nyárfás Vendégház",
                                    "Panzio": "nem"
                                },
                                {
                                    "szallas_nev": "Nyárfás Vendégház",
                                    "Panzio": "nem"
                                },
                                {
                                    "szallas_nev": "Nyárfás Vendégház",
                                    "Panzio": "nem"
                                },
                                {
                                    "szallas_nev": "Nyárfás Vendégház",
                                    "Panzio": "nem"
                                },
                                {
                                    "szallas_nev": "Kollégium",
                                    "Panzio": "nem"
                                },
                                {
                                    "szallas_nev": "Kollégium",
                                    "Panzio": "nem"
                                },
                                {
                                    "szallas_nev": "Kollégium",
                                    "Panzio": "nem"
                                },
                                {
                                    "szallas_nev": "Kollégium",
                                    "Panzio": "nem"
                                },
                                {
                                    "szallas_nev": "Kollégium",
                                    "Panzio": "nem"
                                },
                                {
                                    "szallas_nev": "Kollégium",
                                    "Panzio": "nem"
                                },
                                {
                                    "szallas_nev": "Kollégium",
                                    "Panzio": "nem"
                                },
                                {
                                    "szallas_nev": "Kollégium",
                                    "Panzio": "nem"
                                },
                                {
                                    "szallas_nev": "Kollégium",
                                    "Panzio": "nem"
                                },
                                {
                                    "szallas_nev": "Kollégium",
                                    "Panzio": "nem"
                                }
                            ]
                        },
                        "text/html": [
                            "<table>",
                            "<tr><th>szallas_nev</th><th>Panzio</th></tr>",
                            "<tr><td>Sába-Ház</td><td>nem</td></tr>",
                            "<tr><td>Sába-Ház</td><td>nem</td></tr>",
                            "<tr><td>Sába-Ház</td><td>nem</td></tr>",
                            "<tr><td>Sába-Ház</td><td>nem</td></tr>",
                            "<tr><td>Sába-Ház</td><td>nem</td></tr>",
                            "<tr><td>Sába-Ház</td><td>nem</td></tr>",
                            "<tr><td>Sába-Ház</td><td>nem</td></tr>",
                            "<tr><td>Sába-Ház</td><td>nem</td></tr>",
                            "<tr><td>Sába-Ház</td><td>nem</td></tr>",
                            "<tr><td>Sába-Ház</td><td>nem</td></tr>",
                            "<tr><td>Sába-Ház</td><td>nem</td></tr>",
                            "<tr><td>Sába-Ház</td><td>nem</td></tr>",
                            "<tr><td>Családi Ház</td><td>nem</td></tr>",
                            "<tr><td>Családi Ház</td><td>nem</td></tr>",
                            "<tr><td>Családi Ház</td><td>nem</td></tr>",
                            "<tr><td>Családi Ház</td><td>nem</td></tr>",
                            "<tr><td>Fortuna Apartman</td><td>nem</td></tr>",
                            "<tr><td>Fortuna Apartman</td><td>nem</td></tr>",
                            "<tr><td>Fortuna Apartman</td><td>nem</td></tr>",
                            "<tr><td>Fortuna Apartman</td><td>nem</td></tr>",
                            "<tr><td>Fortuna Apartman</td><td>nem</td></tr>",
                            "<tr><td>Fortuna Apartman</td><td>nem</td></tr>",
                            "<tr><td>Fortuna Apartman</td><td>nem</td></tr>",
                            "<tr><td>Fortuna Apartman</td><td>nem</td></tr>",
                            "<tr><td>Fortuna panzió</td><td>nem</td></tr>",
                            "<tr><td>Fortuna panzió</td><td>nem</td></tr>",
                            "<tr><td>Fortuna panzió</td><td>nem</td></tr>",
                            "<tr><td>Fortuna panzió</td><td>nem</td></tr>",
                            "<tr><td>Fortuna panzió</td><td>nem</td></tr>",
                            "<tr><td>Fortuna panzió</td><td>nem</td></tr>",
                            "<tr><td>Fortuna panzió</td><td>nem</td></tr>",
                            "<tr><td>Fortuna panzió</td><td>nem</td></tr>",
                            "<tr><td>Fortuna panzió</td><td>nem</td></tr>",
                            "<tr><td>Fortuna panzió</td><td>nem</td></tr>",
                            "<tr><td>Fortuna panzió</td><td>nem</td></tr>",
                            "<tr><td>Fortuna panzió</td><td>nem</td></tr>",
                            "<tr><td>Fortuna panzió</td><td>nem</td></tr>",
                            "<tr><td>Fortuna panzió</td><td>nem</td></tr>",
                            "<tr><td>Fortuna panzió</td><td>nem</td></tr>",
                            "<tr><td>Fortuna Panzió</td><td>nem</td></tr>",
                            "<tr><td>Fortuna Panzió</td><td>nem</td></tr>",
                            "<tr><td>Fortuna Panzió</td><td>nem</td></tr>",
                            "<tr><td>Fortuna Panzió</td><td>nem</td></tr>",
                            "<tr><td>Fortuna Panzió</td><td>nem</td></tr>",
                            "<tr><td>Fortuna Panzió</td><td>nem</td></tr>",
                            "<tr><td>Fortuna Panzió</td><td>nem</td></tr>",
                            "<tr><td>Fortuna Panzió</td><td>nem</td></tr>",
                            "<tr><td>Fortuna Panzió</td><td>nem</td></tr>",
                            "<tr><td>Fortuna Panzió</td><td>nem</td></tr>",
                            "<tr><td>Kentaur Hotel</td><td>nem</td></tr>",
                            "<tr><td>Kentaur Hotel</td><td>nem</td></tr>",
                            "<tr><td>Kentaur Hotel</td><td>nem</td></tr>",
                            "<tr><td>Kentaur Hotel</td><td>nem</td></tr>",
                            "<tr><td>Kentaur Hotel</td><td>nem</td></tr>",
                            "<tr><td>Kentaur Hotel</td><td>nem</td></tr>",
                            "<tr><td>Kentaur Hotel</td><td>nem</td></tr>",
                            "<tr><td>Kentaur Hotel</td><td>nem</td></tr>",
                            "<tr><td>Kentaur Hotel</td><td>nem</td></tr>",
                            "<tr><td>Kentaur Hotel</td><td>nem</td></tr>",
                            "<tr><td>Kentaur Hotel</td><td>nem</td></tr>",
                            "<tr><td>Kentaur Hotel</td><td>nem</td></tr>",
                            "<tr><td>Kentaur Hotel</td><td>nem</td></tr>",
                            "<tr><td>Kentaur Hotel</td><td>nem</td></tr>",
                            "<tr><td>Kentaur Hotel</td><td>nem</td></tr>",
                            "<tr><td>Kentaur Hotel</td><td>nem</td></tr>",
                            "<tr><td>Kentaur Hotel</td><td>nem</td></tr>",
                            "<tr><td>Kentaur Hotel</td><td>nem</td></tr>",
                            "<tr><td>Kentaur Hotel</td><td>nem</td></tr>",
                            "<tr><td>Kentaur Hotel</td><td>nem</td></tr>",
                            "<tr><td>Kentaur Hotel</td><td>nem</td></tr>",
                            "<tr><td>Kentaur Hotel</td><td>nem</td></tr>",
                            "<tr><td>Kentaur Hotel</td><td>nem</td></tr>",
                            "<tr><td>Kentaur Hotel</td><td>nem</td></tr>",
                            "<tr><td>Kentaur Hotel</td><td>nem</td></tr>",
                            "<tr><td>Kentaur Hotel</td><td>nem</td></tr>",
                            "<tr><td>Kentaur Hotel</td><td>nem</td></tr>",
                            "<tr><td>Kentaur Hotel</td><td>nem</td></tr>",
                            "<tr><td>Kentaur Hotel</td><td>nem</td></tr>",
                            "<tr><td>Kentaur Hotel</td><td>nem</td></tr>",
                            "<tr><td>Kentaur Hotel</td><td>nem</td></tr>",
                            "<tr><td>Kentaur Hotel</td><td>nem</td></tr>",
                            "<tr><td>Kentaur Hotel</td><td>nem</td></tr>",
                            "<tr><td>Kentaur Hotel</td><td>nem</td></tr>",
                            "<tr><td>Kentaur Hotel</td><td>nem</td></tr>",
                            "<tr><td>Szieszta Apartmanház</td><td>nem</td></tr>",
                            "<tr><td>Szieszta Apartmanház</td><td>nem</td></tr>",
                            "<tr><td>Szieszta Apartmanház</td><td>nem</td></tr>",
                            "<tr><td>Szieszta Apartmanház</td><td>nem</td></tr>",
                            "<tr><td>Szieszta Apartmanház</td><td>nem</td></tr>",
                            "<tr><td>Szieszta Apartmanház</td><td>nem</td></tr>",
                            "<tr><td>Hotel Három Hattyú</td><td>nem</td></tr>",
                            "<tr><td>Hotel Három Hattyú</td><td>nem</td></tr>",
                            "<tr><td>Hotel Három Hattyú</td><td>nem</td></tr>",
                            "<tr><td>Hotel Három Hattyú</td><td>nem</td></tr>",
                            "<tr><td>Hotel Három Hattyú</td><td>nem</td></tr>",
                            "<tr><td>Hotel Három Hattyú</td><td>nem</td></tr>",
                            "<tr><td>Hotel Három Hattyú</td><td>nem</td></tr>",
                            "<tr><td>Hotel Három Hattyú</td><td>nem</td></tr>",
                            "<tr><td>Hotel Három Hattyú</td><td>nem</td></tr>",
                            "<tr><td>Hotel Három Hattyú</td><td>nem</td></tr>",
                            "<tr><td>Hotel Három Hattyú</td><td>nem</td></tr>",
                            "<tr><td>Hotel Három Hattyú</td><td>nem</td></tr>",
                            "<tr><td>Hotel Három Hattyú</td><td>nem</td></tr>",
                            "<tr><td>Hotel Három Hattyú</td><td>nem</td></tr>",
                            "<tr><td>Hotel Három Hattyú</td><td>nem</td></tr>",
                            "<tr><td>Hotel Három Hattyú</td><td>nem</td></tr>",
                            "<tr><td>Hotel Három Hattyú</td><td>nem</td></tr>",
                            "<tr><td>Hotel Három Hattyú</td><td>nem</td></tr>",
                            "<tr><td>Hotel Három Hattyú</td><td>nem</td></tr>",
                            "<tr><td>Hotel Három Hattyú</td><td>nem</td></tr>",
                            "<tr><td>Hotel Három Hattyú</td><td>nem</td></tr>",
                            "<tr><td>Hotel Három Hattyú</td><td>nem</td></tr>",
                            "<tr><td>Hotel Három Hattyú</td><td>nem</td></tr>",
                            "<tr><td>Hotel Három Hattyú</td><td>nem</td></tr>",
                            "<tr><td>Hotel Három Hattyú</td><td>nem</td></tr>",
                            "<tr><td>Hotel Három Hattyú</td><td>nem</td></tr>",
                            "<tr><td>Hotel Három Hattyú</td><td>nem</td></tr>",
                            "<tr><td>Hotel Három Hattyú</td><td>nem</td></tr>",
                            "<tr><td>Hotel Három Hattyú</td><td>nem</td></tr>",
                            "<tr><td>Hotel Három Hattyú</td><td>nem</td></tr>",
                            "<tr><td>Hotel Három Hattyú</td><td>nem</td></tr>",
                            "<tr><td>Hotel Három Hattyú</td><td>nem</td></tr>",
                            "<tr><td>Hotel Három Hattyú</td><td>nem</td></tr>",
                            "<tr><td>Hotel Három Hattyú</td><td>nem</td></tr>",
                            "<tr><td>Hotel Három Hattyú</td><td>nem</td></tr>",
                            "<tr><td>Hotel Három Hattyú</td><td>nem</td></tr>",
                            "<tr><td>Hotel Három Hattyú</td><td>nem</td></tr>",
                            "<tr><td>Hotel Három Hattyú</td><td>nem</td></tr>",
                            "<tr><td>Hotel Három Hattyú</td><td>nem</td></tr>",
                            "<tr><td>Jáde panzió</td><td>nem</td></tr>",
                            "<tr><td>Jáde panzió</td><td>nem</td></tr>",
                            "<tr><td>Jáde panzió</td><td>nem</td></tr>",
                            "<tr><td>Jáde panzió</td><td>nem</td></tr>",
                            "<tr><td>Jáde panzió</td><td>nem</td></tr>",
                            "<tr><td>Lagúna Hotel</td><td>nem</td></tr>",
                            "<tr><td>Lagúna Hotel</td><td>nem</td></tr>",
                            "<tr><td>Lagúna Hotel</td><td>nem</td></tr>",
                            "<tr><td>Lagúna Hotel</td><td>nem</td></tr>",
                            "<tr><td>Lagúna Hotel</td><td>nem</td></tr>",
                            "<tr><td>Lagúna Hotel</td><td>nem</td></tr>",
                            "<tr><td>Lagúna Hotel</td><td>nem</td></tr>",
                            "<tr><td>Lagúna Hotel</td><td>nem</td></tr>",
                            "<tr><td>Lagúna Hotel</td><td>nem</td></tr>",
                            "<tr><td>Lagúna Hotel</td><td>nem</td></tr>",
                            "<tr><td>Lagúna Hotel</td><td>nem</td></tr>",
                            "<tr><td>Lagúna Hotel</td><td>nem</td></tr>",
                            "<tr><td>Lagúna Hotel</td><td>nem</td></tr>",
                            "<tr><td>Lagúna Hotel</td><td>nem</td></tr>",
                            "<tr><td>Lagúna Hotel</td><td>nem</td></tr>",
                            "<tr><td>Lagúna Hotel</td><td>nem</td></tr>",
                            "<tr><td>Lagúna Hotel</td><td>nem</td></tr>",
                            "<tr><td>Lagúna Hotel</td><td>nem</td></tr>",
                            "<tr><td>Lagúna Hotel</td><td>nem</td></tr>",
                            "<tr><td>Lagúna Hotel</td><td>nem</td></tr>",
                            "<tr><td>Lagúna Hotel</td><td>nem</td></tr>",
                            "<tr><td>Lagúna Hotel</td><td>nem</td></tr>",
                            "<tr><td>Lagúna Hotel</td><td>nem</td></tr>",
                            "<tr><td>Lagúna Hotel</td><td>nem</td></tr>",
                            "<tr><td>Lagúna Hotel</td><td>nem</td></tr>",
                            "<tr><td>Partiszél Vendégház</td><td>nem</td></tr>",
                            "<tr><td>Partiszél Vendégház</td><td>nem</td></tr>",
                            "<tr><td>Partiszél Vendégház</td><td>nem</td></tr>",
                            "<tr><td>Partiszél Vendégház</td><td>nem</td></tr>",
                            "<tr><td>Partiszél Vendégház</td><td>nem</td></tr>",
                            "<tr><td>Gold Hotel</td><td>nem</td></tr>",
                            "<tr><td>Gold Hotel</td><td>nem</td></tr>",
                            "<tr><td>Gold Hotel</td><td>nem</td></tr>",
                            "<tr><td>Gold Hotel</td><td>nem</td></tr>",
                            "<tr><td>Gold Hotel</td><td>nem</td></tr>",
                            "<tr><td>Gold Hotel</td><td>nem</td></tr>",
                            "<tr><td>Gold Hotel</td><td>nem</td></tr>",
                            "<tr><td>Gold Hotel</td><td>nem</td></tr>",
                            "<tr><td>Gold Hotel</td><td>nem</td></tr>",
                            "<tr><td>Gold Hotel</td><td>nem</td></tr>",
                            "<tr><td>Gold Hotel</td><td>nem</td></tr>",
                            "<tr><td>Gold Hotel</td><td>nem</td></tr>",
                            "<tr><td>Gold Hotel</td><td>nem</td></tr>",
                            "<tr><td>Gold Hotel</td><td>nem</td></tr>",
                            "<tr><td>Gold Hotel</td><td>nem</td></tr>",
                            "<tr><td>Gold Hotel</td><td>nem</td></tr>",
                            "<tr><td>Gold Hotel</td><td>nem</td></tr>",
                            "<tr><td>Gold Hotel</td><td>nem</td></tr>",
                            "<tr><td>Gold Hotel</td><td>nem</td></tr>",
                            "<tr><td>Gold Hotel</td><td>nem</td></tr>",
                            "<tr><td>Gold Hotel</td><td>nem</td></tr>",
                            "<tr><td>Gold Hotel</td><td>nem</td></tr>",
                            "<tr><td>Gold Hotel</td><td>nem</td></tr>",
                            "<tr><td>Gold Hotel</td><td>nem</td></tr>",
                            "<tr><td>Gold Hotel</td><td>nem</td></tr>",
                            "<tr><td>Gold Hotel</td><td>nem</td></tr>",
                            "<tr><td>Gold Hotel</td><td>nem</td></tr>",
                            "<tr><td>Gold Hotel</td><td>nem</td></tr>",
                            "<tr><td>Gold Hotel</td><td>nem</td></tr>",
                            "<tr><td>Gold Hotel</td><td>nem</td></tr>",
                            "<tr><td>Gold Hotel</td><td>nem</td></tr>",
                            "<tr><td>Gold Hotel</td><td>nem</td></tr>",
                            "<tr><td>Gold Hotel</td><td>nem</td></tr>",
                            "<tr><td>Gold Hotel</td><td>nem</td></tr>",
                            "<tr><td>Gold Hotel</td><td>nem</td></tr>",
                            "<tr><td>Gold Hotel</td><td>nem</td></tr>",
                            "<tr><td>Gold Hotel</td><td>nem</td></tr>",
                            "<tr><td>Gold Hotel</td><td>nem</td></tr>",
                            "<tr><td>Gold Hotel</td><td>nem</td></tr>",
                            "<tr><td>Gold Hotel</td><td>nem</td></tr>",
                            "<tr><td>Gold Hotel</td><td>nem</td></tr>",
                            "<tr><td>Gold Hotel</td><td>nem</td></tr>",
                            "<tr><td>Gold Hotel</td><td>nem</td></tr>",
                            "<tr><td>Gold Hotel</td><td>nem</td></tr>",
                            "<tr><td>Gold Hotel</td><td>nem</td></tr>",
                            "<tr><td>Gold Hotel</td><td>nem</td></tr>",
                            "<tr><td>Gold Hotel</td><td>nem</td></tr>",
                            "<tr><td>Gold Hotel</td><td>nem</td></tr>",
                            "<tr><td>Gold Hotel</td><td>nem</td></tr>",
                            "<tr><td>Gold Hotel</td><td>nem</td></tr>",
                            "<tr><td>Riviéra Panzió</td><td>nem</td></tr>",
                            "<tr><td>Riviéra Panzió</td><td>nem</td></tr>",
                            "<tr><td>Riviéra Panzió</td><td>nem</td></tr>",
                            "<tr><td>Riviéra Panzió</td><td>nem</td></tr>",
                            "<tr><td>Riviéra Panzió</td><td>nem</td></tr>",
                            "<tr><td>Riviéra Panzió</td><td>nem</td></tr>",
                            "<tr><td>Riviéra Panzió</td><td>nem</td></tr>",
                            "<tr><td>Riviéra Panzió</td><td>nem</td></tr>",
                            "<tr><td>Riviéra Panzió</td><td>nem</td></tr>",
                            "<tr><td>Riviéra Panzió</td><td>nem</td></tr>",
                            "<tr><td>Riviéra Panzió</td><td>nem</td></tr>",
                            "<tr><td>Riviéra Panzió</td><td>nem</td></tr>",
                            "<tr><td>Nyárfás Vendégház</td><td>nem</td></tr>",
                            "<tr><td>Nyárfás Vendégház</td><td>nem</td></tr>",
                            "<tr><td>Nyárfás Vendégház</td><td>nem</td></tr>",
                            "<tr><td>Nyárfás Vendégház</td><td>nem</td></tr>",
                            "<tr><td>Tímárház Panzió</td><td>nem</td></tr>",
                            "<tr><td>Tímárház Panzió</td><td>nem</td></tr>",
                            "<tr><td>Tímárház Panzió</td><td>nem</td></tr>",
                            "<tr><td>Tímárház Panzió</td><td>nem</td></tr>",
                            "<tr><td>Tímárház Panzió</td><td>nem</td></tr>",
                            "<tr><td>Tímárház Panzió</td><td>nem</td></tr>",
                            "<tr><td>Tímárház Panzió</td><td>nem</td></tr>",
                            "<tr><td>Tímárház Panzió</td><td>nem</td></tr>",
                            "<tr><td>Tímárház Panzió</td><td>nem</td></tr>",
                            "<tr><td>Tímárház Panzió</td><td>nem</td></tr>",
                            "<tr><td>Tímárház Panzió</td><td>nem</td></tr>",
                            "<tr><td>Tímárház Panzió</td><td>nem</td></tr>",
                            "<tr><td>Bagoly Hotel</td><td>nem</td></tr>",
                            "<tr><td>Bagoly Hotel</td><td>nem</td></tr>",
                            "<tr><td>Bagoly Hotel</td><td>nem</td></tr>",
                            "<tr><td>Bagoly Hotel</td><td>nem</td></tr>",
                            "<tr><td>Bagoly Hotel</td><td>nem</td></tr>",
                            "<tr><td>Bagoly Hotel</td><td>nem</td></tr>",
                            "<tr><td>Bagoly Hotel</td><td>nem</td></tr>",
                            "<tr><td>Bagoly Hotel</td><td>nem</td></tr>",
                            "<tr><td>Bagoly Hotel</td><td>nem</td></tr>",
                            "<tr><td>Bagoly Hotel</td><td>nem</td></tr>",
                            "<tr><td>Bagoly Hotel</td><td>nem</td></tr>",
                            "<tr><td>Bagoly Hotel</td><td>nem</td></tr>",
                            "<tr><td>Bagoly Hotel</td><td>nem</td></tr>",
                            "<tr><td>Bagoly Hotel</td><td>nem</td></tr>",
                            "<tr><td>Bagoly Hotel</td><td>nem</td></tr>",
                            "<tr><td>Bagoly Hotel</td><td>nem</td></tr>",
                            "<tr><td>Bagoly Hotel</td><td>nem</td></tr>",
                            "<tr><td>Bagoly Hotel</td><td>nem</td></tr>",
                            "<tr><td>Bagoly Hotel</td><td>nem</td></tr>",
                            "<tr><td>Bagoly Hotel</td><td>nem</td></tr>",
                            "<tr><td>Szarvas Hotel</td><td>nem</td></tr>",
                            "<tr><td>Szarvas Hotel</td><td>nem</td></tr>",
                            "<tr><td>Szarvas Hotel</td><td>nem</td></tr>",
                            "<tr><td>Szarvas Hotel</td><td>nem</td></tr>",
                            "<tr><td>Szarvas Hotel</td><td>nem</td></tr>",
                            "<tr><td>Szarvas Hotel</td><td>nem</td></tr>",
                            "<tr><td>Szarvas Hotel</td><td>nem</td></tr>",
                            "<tr><td>Szarvas Hotel</td><td>nem</td></tr>",
                            "<tr><td>Szarvas Hotel</td><td>nem</td></tr>",
                            "<tr><td>Szarvas Hotel</td><td>nem</td></tr>",
                            "<tr><td>Szarvas Hotel</td><td>nem</td></tr>",
                            "<tr><td>Szarvas Hotel</td><td>nem</td></tr>",
                            "<tr><td>Szarvas Hotel</td><td>nem</td></tr>",
                            "<tr><td>Szarvas Hotel</td><td>nem</td></tr>",
                            "<tr><td>Szarvas Hotel</td><td>nem</td></tr>",
                            "<tr><td>Fortuna Apartman</td><td>nem</td></tr>",
                            "<tr><td>Fortuna Apartman</td><td>nem</td></tr>",
                            "<tr><td>Fortuna Apartman</td><td>nem</td></tr>",
                            "<tr><td>Nyárfás Vendégház</td><td>nem</td></tr>",
                            "<tr><td>Nyárfás Vendégház</td><td>nem</td></tr>",
                            "<tr><td>Nyárfás Vendégház</td><td>nem</td></tr>",
                            "<tr><td>Nyárfás Vendégház</td><td>nem</td></tr>",
                            "<tr><td>Kollégium</td><td>nem</td></tr>",
                            "<tr><td>Kollégium</td><td>nem</td></tr>",
                            "<tr><td>Kollégium</td><td>nem</td></tr>",
                            "<tr><td>Kollégium</td><td>nem</td></tr>",
                            "<tr><td>Kollégium</td><td>nem</td></tr>",
                            "<tr><td>Kollégium</td><td>nem</td></tr>",
                            "<tr><td>Kollégium</td><td>nem</td></tr>",
                            "<tr><td>Kollégium</td><td>nem</td></tr>",
                            "<tr><td>Kollégium</td><td>nem</td></tr>",
                            "<tr><td>Kollégium</td><td>nem</td></tr>",
                            "</table>"
                        ]
                    }
                }
            ],
            "execution_count": 14
        }
    ]
}